{
 "cells": [
  {
   "cell_type": "code",
   "execution_count": 3,
   "metadata": {},
   "outputs": [],
   "source": [
    "import pandas as pd\n",
    "import numpy as np"
   ]
  },
  {
   "cell_type": "code",
   "execution_count": 4,
   "metadata": {},
   "outputs": [],
   "source": [
    "data = '{\"employees\":[{\"firstname\":\"John\",\"lastname\":\"Doe\"},{\"firstname\":\"Praveen\",\"lastname\":\"Krishnan\"},{\"firstname\":\"Kim\",\"lastanme\":\"Jon\"}]}'"
   ]
  },
  {
   "cell_type": "code",
   "execution_count": 5,
   "metadata": {},
   "outputs": [
    {
     "data": {
      "text/html": [
       "<div>\n",
       "<style scoped>\n",
       "    .dataframe tbody tr th:only-of-type {\n",
       "        vertical-align: middle;\n",
       "    }\n",
       "\n",
       "    .dataframe tbody tr th {\n",
       "        vertical-align: top;\n",
       "    }\n",
       "\n",
       "    .dataframe thead th {\n",
       "        text-align: right;\n",
       "    }\n",
       "</style>\n",
       "<table border=\"1\" class=\"dataframe\">\n",
       "  <thead>\n",
       "    <tr style=\"text-align: right;\">\n",
       "      <th></th>\n",
       "      <th>employees</th>\n",
       "    </tr>\n",
       "  </thead>\n",
       "  <tbody>\n",
       "    <tr>\n",
       "      <th>0</th>\n",
       "      <td>{'firstname': 'John', 'lastname': 'Doe'}</td>\n",
       "    </tr>\n",
       "    <tr>\n",
       "      <th>1</th>\n",
       "      <td>{'firstname': 'Praveen', 'lastname': 'Krishnan'}</td>\n",
       "    </tr>\n",
       "    <tr>\n",
       "      <th>2</th>\n",
       "      <td>{'firstname': 'Kim', 'lastanme': 'Jon'}</td>\n",
       "    </tr>\n",
       "  </tbody>\n",
       "</table>\n",
       "</div>"
      ],
      "text/plain": [
       "                                          employees\n",
       "0          {'firstname': 'John', 'lastname': 'Doe'}\n",
       "1  {'firstname': 'Praveen', 'lastname': 'Krishnan'}\n",
       "2           {'firstname': 'Kim', 'lastanme': 'Jon'}"
      ]
     },
     "execution_count": 5,
     "metadata": {},
     "output_type": "execute_result"
    }
   ],
   "source": [
    "pd.read_json(data)"
   ]
  },
  {
   "cell_type": "code",
   "execution_count": 11,
   "metadata": {},
   "outputs": [
    {
     "data": {
      "text/html": [
       "<div>\n",
       "<style scoped>\n",
       "    .dataframe tbody tr th:only-of-type {\n",
       "        vertical-align: middle;\n",
       "    }\n",
       "\n",
       "    .dataframe tbody tr th {\n",
       "        vertical-align: top;\n",
       "    }\n",
       "\n",
       "    .dataframe thead th {\n",
       "        text-align: right;\n",
       "    }\n",
       "</style>\n",
       "<table border=\"1\" class=\"dataframe\">\n",
       "  <thead>\n",
       "    <tr style=\"text-align: right;\">\n",
       "      <th></th>\n",
       "      <th>Unnamed: 0</th>\n",
       "      <th>C1</th>\n",
       "      <th>C2</th>\n",
       "      <th>C3</th>\n",
       "      <th>C4</th>\n",
       "    </tr>\n",
       "  </thead>\n",
       "  <tbody>\n",
       "    <tr>\n",
       "      <th>0</th>\n",
       "      <td>R1</td>\n",
       "      <td>0</td>\n",
       "      <td>1</td>\n",
       "      <td>2</td>\n",
       "      <td>3</td>\n",
       "    </tr>\n",
       "    <tr>\n",
       "      <th>1</th>\n",
       "      <td>R2</td>\n",
       "      <td>4</td>\n",
       "      <td>5</td>\n",
       "      <td>6</td>\n",
       "      <td>7</td>\n",
       "    </tr>\n",
       "    <tr>\n",
       "      <th>2</th>\n",
       "      <td>R3</td>\n",
       "      <td>8</td>\n",
       "      <td>9</td>\n",
       "      <td>10</td>\n",
       "      <td>11</td>\n",
       "    </tr>\n",
       "    <tr>\n",
       "      <th>3</th>\n",
       "      <td>R4</td>\n",
       "      <td>12</td>\n",
       "      <td>13</td>\n",
       "      <td>14</td>\n",
       "      <td>15</td>\n",
       "    </tr>\n",
       "    <tr>\n",
       "      <th>4</th>\n",
       "      <td>R5</td>\n",
       "      <td>16</td>\n",
       "      <td>17</td>\n",
       "      <td>18</td>\n",
       "      <td>19</td>\n",
       "    </tr>\n",
       "  </tbody>\n",
       "</table>\n",
       "</div>"
      ],
      "text/plain": [
       "  Unnamed: 0  C1  C2  C3  C4\n",
       "0         R1   0   1   2   3\n",
       "1         R2   4   5   6   7\n",
       "2         R3   8   9  10  11\n",
       "3         R4  12  13  14  15\n",
       "4         R5  16  17  18  19"
      ]
     },
     "execution_count": 11,
     "metadata": {},
     "output_type": "execute_result"
    }
   ],
   "source": [
    "jsc = pd.read_csv('random_num.csv')\n",
    "jsc"
   ]
  },
  {
   "cell_type": "code",
   "execution_count": 13,
   "metadata": {},
   "outputs": [
    {
     "data": {
      "text/plain": [
       "'{\"Unnamed: 0\":{\"0\":\"R1\",\"1\":\"R2\",\"2\":\"R3\",\"3\":\"R4\",\"4\":\"R5\"},\"C1\":{\"0\":0,\"1\":4,\"2\":8,\"3\":12,\"4\":16},\"C2\":{\"0\":1,\"1\":5,\"2\":9,\"3\":13,\"4\":17},\"C3\":{\"0\":2,\"1\":6,\"2\":10,\"3\":14,\"4\":18},\"C4\":{\"0\":3,\"1\":7,\"2\":11,\"3\":15,\"4\":19}}'"
      ]
     },
     "execution_count": 13,
     "metadata": {},
     "output_type": "execute_result"
    }
   ],
   "source": [
    "jsj = jsc.to_json()\n",
    "jsj"
   ]
  },
  {
   "cell_type": "code",
   "execution_count": 23,
   "metadata": {},
   "outputs": [
    {
     "data": {
      "text/plain": [
       "'{\"columns\":[\"Unnamed: 0\",\"C1\",\"C2\",\"C3\",\"C4\"],\"index\":[0,1,2,3,4],\"data\":[[\"R1\",0,1,2,3],[\"R2\",4,5,6,7],[\"R3\",8,9,10,11],[\"R4\",12,13,14,15],[\"R5\",16,17,18,19]]}'"
      ]
     },
     "execution_count": 23,
     "metadata": {},
     "output_type": "execute_result"
    }
   ],
   "source": [
    "jsc.to_json(orient='split') #INDEX"
   ]
  },
  {
   "cell_type": "code",
   "execution_count": 24,
   "metadata": {},
   "outputs": [
    {
     "data": {
      "text/plain": [
       "'[{\"Unnamed: 0\":\"R1\",\"C1\":0,\"C2\":1,\"C3\":2,\"C4\":3},{\"Unnamed: 0\":\"R2\",\"C1\":4,\"C2\":5,\"C3\":6,\"C4\":7},{\"Unnamed: 0\":\"R3\",\"C1\":8,\"C2\":9,\"C3\":10,\"C4\":11},{\"Unnamed: 0\":\"R4\",\"C1\":12,\"C2\":13,\"C3\":14,\"C4\":15},{\"Unnamed: 0\":\"R5\",\"C1\":16,\"C2\":17,\"C3\":18,\"C4\":19}]'"
      ]
     },
     "execution_count": 24,
     "metadata": {},
     "output_type": "execute_result"
    }
   ],
   "source": [
    "jsc.to_json(orient='records')"
   ]
  },
  {
   "cell_type": "code",
   "execution_count": 25,
   "metadata": {},
   "outputs": [
    {
     "data": {
      "text/plain": [
       "'{\"Unnamed: 0\":{\"0\":\"R1\",\"1\":\"R2\",\"2\":\"R3\",\"3\":\"R4\",\"4\":\"R5\"},\"C1\":{\"0\":0,\"1\":4,\"2\":8,\"3\":12,\"4\":16},\"C2\":{\"0\":1,\"1\":5,\"2\":9,\"3\":13,\"4\":17},\"C3\":{\"0\":2,\"1\":6,\"2\":10,\"3\":14,\"4\":18},\"C4\":{\"0\":3,\"1\":7,\"2\":11,\"3\":15,\"4\":19}}'"
      ]
     },
     "execution_count": 25,
     "metadata": {},
     "output_type": "execute_result"
    }
   ],
   "source": [
    "jsc.to_json(orient='columns')# VALUES & TABLES"
   ]
  },
  {
   "cell_type": "code",
   "execution_count": 29,
   "metadata": {},
   "outputs": [],
   "source": [
    "#pd.read_html('contact.html')  -table should present"
   ]
  },
  {
   "cell_type": "code",
   "execution_count": 30,
   "metadata": {},
   "outputs": [],
   "source": [
    "#pd.read_html('contact.html',match='contacts') -if more than one table in same url"
   ]
  },
  {
   "cell_type": "code",
   "execution_count": 31,
   "metadata": {},
   "outputs": [],
   "source": [
    "#pd.read_excel('excel.xlsx')"
   ]
  },
  {
   "cell_type": "code",
   "execution_count": 32,
   "metadata": {},
   "outputs": [],
   "source": [
    "# Pickling is another important thing in pandas. Often used"
   ]
  },
  {
   "cell_type": "markdown",
   "metadata": {},
   "source": [
    "### More in kaggle micro course"
   ]
  },
  {
   "cell_type": "code",
   "execution_count": null,
   "metadata": {},
   "outputs": [],
   "source": []
  }
 ],
 "metadata": {
  "kernelspec": {
   "display_name": "Python 3",
   "language": "python",
   "name": "python3"
  },
  "language_info": {
   "codemirror_mode": {
    "name": "ipython",
    "version": 3
   },
   "file_extension": ".py",
   "mimetype": "text/x-python",
   "name": "python",
   "nbconvert_exporter": "python",
   "pygments_lexer": "ipython3",
   "version": "3.8.3"
  }
 },
 "nbformat": 4,
 "nbformat_minor": 4
}
